{
 "cells": [
  {
   "cell_type": "code",
   "execution_count": 3,
   "id": "a74f5863",
   "metadata": {},
   "outputs": [
    {
     "name": "stdout",
     "output_type": "stream",
     "text": [
      "my name is viraj\n"
     ]
    }
   ],
   "source": [
    "name = \"viraj\"\n",
    "print(\"my name is \" + name)"
   ]
  },
  {
   "cell_type": "code",
   "execution_count": 4,
   "id": "90f3c990",
   "metadata": {},
   "outputs": [
    {
     "name": "stdout",
     "output_type": "stream",
     "text": [
      "<class 'str'>\n"
     ]
    }
   ],
   "source": [
    "print(type(name))"
   ]
  },
  {
   "cell_type": "code",
   "execution_count": 11,
   "id": "e69d5ddf",
   "metadata": {},
   "outputs": [
    {
     "name": "stdout",
     "output_type": "stream",
     "text": [
      "viraj's age is :21\n"
     ]
    }
   ],
   "source": [
    "age = 21\n",
    "print(\"viraj's age is :\" + age)"
   ]
  },
  {
   "cell_type": "code",
   "execution_count": 10,
   "id": "1fa2d0cf",
   "metadata": {},
   "outputs": [
    {
     "name": "stdout",
     "output_type": "stream",
     "text": [
      "viraj's age is :21\n"
     ]
    }
   ],
   "source": [
    "age = 21\n",
    "print(\"viraj's age is :\" + str(age))\n"
   ]
  },
  {
   "cell_type": "code",
   "execution_count": 14,
   "id": "04bb2db1",
   "metadata": {},
   "outputs": [
    {
     "data": {
      "text/plain": [
       "bool"
      ]
     },
     "execution_count": 14,
     "metadata": {},
     "output_type": "execute_result"
    }
   ],
   "source": [
    "a = True\n",
    "type(a)\n",
    " \n",
    "b = False\n",
    "type(b)"
   ]
  },
  {
   "cell_type": "markdown",
   "id": "078b64ce",
   "metadata": {},
   "source": [
    "MULTIPLE ASSIGNMENTS"
   ]
  },
  {
   "cell_type": "code",
   "execution_count": 16,
   "id": "03a4fe71",
   "metadata": {},
   "outputs": [
    {
     "name": "stdout",
     "output_type": "stream",
     "text": [
      "bro\n",
      "21\n",
      "True\n"
     ]
    }
   ],
   "source": [
    "name = \"bro\"\n",
    "age = 21\n",
    "attractive = True \n",
    "\n",
    "print(name)\n",
    "print(age)\n",
    "print(attractive)"
   ]
  },
  {
   "cell_type": "code",
   "execution_count": 17,
   "id": "5cda752a",
   "metadata": {},
   "outputs": [],
   "source": [
    "name, age, attractive = \"bro\", 21, True"
   ]
  },
  {
   "cell_type": "markdown",
   "id": "663fc880",
   "metadata": {},
   "source": [
    "STRING METHODS"
   ]
  },
  {
   "cell_type": "code",
   "execution_count": 18,
   "id": "c56fe511",
   "metadata": {},
   "outputs": [],
   "source": [
    "name = \"VIRAJ\""
   ]
  },
  {
   "cell_type": "code",
   "execution_count": 19,
   "id": "f6185c98",
   "metadata": {},
   "outputs": [
    {
     "data": {
      "text/plain": [
       "5"
      ]
     },
     "execution_count": 19,
     "metadata": {},
     "output_type": "execute_result"
    }
   ],
   "source": [
    "len(name)"
   ]
  },
  {
   "cell_type": "code",
   "execution_count": 20,
   "id": "ada2e279",
   "metadata": {},
   "outputs": [
    {
     "data": {
      "text/plain": [
       "1"
      ]
     },
     "execution_count": 20,
     "metadata": {},
     "output_type": "execute_result"
    }
   ],
   "source": [
    "name.find(\"I\")"
   ]
  },
  {
   "cell_type": "code",
   "execution_count": 21,
   "id": "6d4e17a5",
   "metadata": {},
   "outputs": [
    {
     "data": {
      "text/plain": [
       "'viraj'"
      ]
     },
     "execution_count": 21,
     "metadata": {},
     "output_type": "execute_result"
    }
   ],
   "source": [
    "name.lower()"
   ]
  },
  {
   "cell_type": "code",
   "execution_count": 22,
   "id": "d049ee2d",
   "metadata": {},
   "outputs": [
    {
     "data": {
      "text/plain": [
       "'Viraj'"
      ]
     },
     "execution_count": 22,
     "metadata": {},
     "output_type": "execute_result"
    }
   ],
   "source": [
    "name.capitalize()"
   ]
  },
  {
   "cell_type": "code",
   "execution_count": 23,
   "id": "8021d198",
   "metadata": {},
   "outputs": [
    {
     "data": {
      "text/plain": [
       "False"
      ]
     },
     "execution_count": 23,
     "metadata": {},
     "output_type": "execute_result"
    }
   ],
   "source": [
    "name.isdigit()"
   ]
  },
  {
   "cell_type": "code",
   "execution_count": 24,
   "id": "9394fcc1",
   "metadata": {},
   "outputs": [
    {
     "data": {
      "text/plain": [
       "True"
      ]
     },
     "execution_count": 24,
     "metadata": {},
     "output_type": "execute_result"
    }
   ],
   "source": [
    "name.isalpha() #alphabetical characters"
   ]
  },
  {
   "cell_type": "code",
   "execution_count": 25,
   "id": "4db49f0f",
   "metadata": {},
   "outputs": [
    {
     "data": {
      "text/plain": [
       "'VIRAJ'"
      ]
     },
     "execution_count": 25,
     "metadata": {},
     "output_type": "execute_result"
    }
   ],
   "source": [
    "name.replace(\"j\",\"J\")"
   ]
  },
  {
   "cell_type": "code",
   "execution_count": 26,
   "id": "75609613",
   "metadata": {},
   "outputs": [
    {
     "data": {
      "text/plain": [
       "'VIRAJVIRAJVIRAJ'"
      ]
     },
     "execution_count": 26,
     "metadata": {},
     "output_type": "execute_result"
    }
   ],
   "source": [
    "name*3"
   ]
  },
  {
   "cell_type": "markdown",
   "id": "e503b328",
   "metadata": {},
   "source": [
    "TYPECASTING"
   ]
  },
  {
   "cell_type": "code",
   "execution_count": 27,
   "id": "1e50955c",
   "metadata": {},
   "outputs": [
    {
     "data": {
      "text/plain": [
       "3.5"
      ]
     },
     "execution_count": 27,
     "metadata": {},
     "output_type": "execute_result"
    }
   ],
   "source": [
    "Y = 3.5\n",
    "Y"
   ]
  },
  {
   "cell_type": "code",
   "execution_count": 28,
   "id": "6a253bf7",
   "metadata": {},
   "outputs": [
    {
     "data": {
      "text/plain": [
       "3"
      ]
     },
     "execution_count": 28,
     "metadata": {},
     "output_type": "execute_result"
    }
   ],
   "source": [
    "int(Y)"
   ]
  },
  {
   "cell_type": "code",
   "execution_count": 30,
   "id": "3d70f376",
   "metadata": {},
   "outputs": [
    {
     "data": {
      "text/plain": [
       "'333'"
      ]
     },
     "execution_count": 30,
     "metadata": {},
     "output_type": "execute_result"
    }
   ],
   "source": [
    "z = \"3\"\n",
    "z*3"
   ]
  },
  {
   "cell_type": "code",
   "execution_count": 35,
   "id": "bee531b0",
   "metadata": {},
   "outputs": [
    {
     "data": {
      "text/plain": [
       "9"
      ]
     },
     "execution_count": 35,
     "metadata": {},
     "output_type": "execute_result"
    }
   ],
   "source": [
    " int(z)*3"
   ]
  },
  {
   "cell_type": "markdown",
   "id": "a4e12f0d",
   "metadata": {},
   "source": [
    "USER INPUT"
   ]
  },
  {
   "cell_type": "code",
   "execution_count": 1,
   "id": "5d25d2a6",
   "metadata": {},
   "outputs": [
    {
     "name": "stdout",
     "output_type": "stream",
     "text": [
      "what is your name viraj\n"
     ]
    }
   ],
   "source": [
    "name = input(\"what is your name \") #always is string dataTYPE"
   ]
  },
  {
   "cell_type": "code",
   "execution_count": 3,
   "id": "5bb0dc2f",
   "metadata": {},
   "outputs": [
    {
     "name": "stdout",
     "output_type": "stream",
     "text": [
      "what is your age 21\n"
     ]
    }
   ],
   "source": [
    "age = int(input(\"what is your age \"))"
   ]
  },
  {
   "cell_type": "code",
   "execution_count": 4,
   "id": "a383d649",
   "metadata": {},
   "outputs": [
    {
     "name": "stdout",
     "output_type": "stream",
     "text": [
      "your name is viraj & your age is 21\n"
     ]
    }
   ],
   "source": [
    "print(\"your name is \"+ str(name)+ \" & your age is \"+ str(age))"
   ]
  },
  {
   "cell_type": "code",
   "execution_count": 5,
   "id": "bf3e17a9",
   "metadata": {},
   "outputs": [
    {
     "name": "stdout",
     "output_type": "stream",
     "text": [
      "how tall are you 186.5\n"
     ]
    }
   ],
   "source": [
    "height = float(input(\"how tall are you \"))"
   ]
  },
  {
   "cell_type": "code",
   "execution_count": 10,
   "id": "357957e7",
   "metadata": {},
   "outputs": [
    {
     "name": "stdout",
     "output_type": "stream",
     "text": [
      " your name is viraj, you are 21years old & your height is 186.5\n"
     ]
    }
   ],
   "source": [
    "print (\" your name is \"+ str(name) + \", you are \" + str(age) + \"years old\"+ \" & your height is \" + str(height))"
   ]
  },
  {
   "cell_type": "markdown",
   "id": "1126abd7",
   "metadata": {},
   "source": [
    "FUNCTIONS FOR NUMBERS"
   ]
  },
  {
   "cell_type": "code",
   "execution_count": 11,
   "id": "e8bedd21",
   "metadata": {},
   "outputs": [],
   "source": [
    "import math"
   ]
  },
  {
   "cell_type": "code",
   "execution_count": 12,
   "id": "952617bc",
   "metadata": {},
   "outputs": [
    {
     "name": "stdout",
     "output_type": "stream",
     "text": [
      "3\n"
     ]
    }
   ],
   "source": [
    "print(round(3.14))"
   ]
  },
  {
   "cell_type": "code",
   "execution_count": 13,
   "id": "cc37f812",
   "metadata": {},
   "outputs": [],
   "source": [
    "pi = 3.14"
   ]
  },
  {
   "cell_type": "code",
   "execution_count": 14,
   "id": "b9d39724",
   "metadata": {},
   "outputs": [
    {
     "data": {
      "text/plain": [
       "4"
      ]
     },
     "execution_count": 14,
     "metadata": {},
     "output_type": "execute_result"
    }
   ],
   "source": [
    "math.ceil(pi)"
   ]
  },
  {
   "cell_type": "code",
   "execution_count": 16,
   "id": "0adaf920",
   "metadata": {},
   "outputs": [
    {
     "data": {
      "text/plain": [
       "3"
      ]
     },
     "execution_count": 16,
     "metadata": {},
     "output_type": "execute_result"
    }
   ],
   "source": [
    "math.floor(pi)"
   ]
  },
  {
   "cell_type": "code",
   "execution_count": 17,
   "id": "a2830bf3",
   "metadata": {},
   "outputs": [
    {
     "data": {
      "text/plain": [
       "3.14"
      ]
     },
     "execution_count": 17,
     "metadata": {},
     "output_type": "execute_result"
    }
   ],
   "source": [
    "abs(pi)"
   ]
  },
  {
   "cell_type": "code",
   "execution_count": 19,
   "id": "733364e2",
   "metadata": {},
   "outputs": [
    {
     "data": {
      "text/plain": [
       "9.8596"
      ]
     },
     "execution_count": 19,
     "metadata": {},
     "output_type": "execute_result"
    }
   ],
   "source": [
    "pow(pi,2) #power or raised to"
   ]
  },
  {
   "cell_type": "code",
   "execution_count": 20,
   "id": "87d3b405",
   "metadata": {},
   "outputs": [
    {
     "data": {
      "text/plain": [
       "13.0"
      ]
     },
     "execution_count": 20,
     "metadata": {},
     "output_type": "execute_result"
    }
   ],
   "source": [
    "math.sqrt(169)"
   ]
  },
  {
   "cell_type": "code",
   "execution_count": 21,
   "id": "6515b93d",
   "metadata": {},
   "outputs": [
    {
     "data": {
      "text/plain": [
       "3"
      ]
     },
     "execution_count": 21,
     "metadata": {},
     "output_type": "execute_result"
    }
   ],
   "source": [
    "max(1,2,3)"
   ]
  },
  {
   "cell_type": "code",
   "execution_count": 22,
   "id": "0c7b61a0",
   "metadata": {},
   "outputs": [
    {
     "data": {
      "text/plain": [
       "1"
      ]
     },
     "execution_count": 22,
     "metadata": {},
     "output_type": "execute_result"
    }
   ],
   "source": [
    "min(1,2,23)"
   ]
  },
  {
   "cell_type": "markdown",
   "id": "df845cf1",
   "metadata": {},
   "source": [
    "STRING SLICING"
   ]
  },
  {
   "cell_type": "code",
   "execution_count": 23,
   "id": "1427203e",
   "metadata": {},
   "outputs": [],
   "source": [
    "#[START:STOP:STEP]"
   ]
  },
  {
   "cell_type": "code",
   "execution_count": 24,
   "id": "2bfb15d0",
   "metadata": {},
   "outputs": [
    {
     "data": {
      "text/plain": [
       "'viraj'"
      ]
     },
     "execution_count": 24,
     "metadata": {},
     "output_type": "execute_result"
    }
   ],
   "source": [
    "name"
   ]
  },
  {
   "cell_type": "code",
   "execution_count": 25,
   "id": "e9e05a85",
   "metadata": {},
   "outputs": [],
   "source": [
    "string1 = \"viraj  is pursuing engineering\""
   ]
  },
  {
   "cell_type": "code",
   "execution_count": 27,
   "id": "a93c203b",
   "metadata": {},
   "outputs": [
    {
     "data": {
      "text/plain": [
       "'v'"
      ]
     },
     "execution_count": 27,
     "metadata": {},
     "output_type": "execute_result"
    }
   ],
   "source": [
    "newstring = string1[0]\n",
    "newstring"
   ]
  },
  {
   "cell_type": "code",
   "execution_count": 29,
   "id": "5a80cf98",
   "metadata": {},
   "outputs": [
    {
     "data": {
      "text/plain": [
       "'viraj'"
      ]
     },
     "execution_count": 29,
     "metadata": {},
     "output_type": "execute_result"
    }
   ],
   "source": [
    "string2 = string1[0:5]\n",
    "string2"
   ]
  },
  {
   "cell_type": "code",
   "execution_count": 35,
   "id": "49b549c3",
   "metadata": {},
   "outputs": [
    {
     "data": {
      "text/plain": [
       "'vrj sprun niern'"
      ]
     },
     "execution_count": 35,
     "metadata": {},
     "output_type": "execute_result"
    }
   ],
   "source": [
    "string3 = string1[0::2]\n",
    "string3"
   ]
  },
  {
   "cell_type": "code",
   "execution_count": 38,
   "id": "b8a01933",
   "metadata": {},
   "outputs": [
    {
     "data": {
      "text/plain": [
       "'gnireenigne gniusrup si  jariv'"
      ]
     },
     "execution_count": 38,
     "metadata": {},
     "output_type": "execute_result"
    }
   ],
   "source": [
    "#reverse a string\n",
    "string3 = string1[::-1]\n",
    "string3"
   ]
  },
  {
   "cell_type": "code",
   "execution_count": 52,
   "id": "e383afbe",
   "metadata": {
    "scrolled": true
   },
   "outputs": [
    {
     "data": {
      "text/plain": [
       "'google'"
      ]
     },
     "execution_count": 52,
     "metadata": {},
     "output_type": "execute_result"
    }
   ],
   "source": [
    "website = \"http://google.com\"\n",
    "\n",
    "website[7:-4]\n"
   ]
  },
  {
   "cell_type": "markdown",
   "id": "cea6786c",
   "metadata": {},
   "source": [
    "IF ELSE"
   ]
  },
  {
   "cell_type": "code",
   "execution_count": 54,
   "id": "734e3b9f",
   "metadata": {},
   "outputs": [
    {
     "name": "stdout",
     "output_type": "stream",
     "text": [
      "how old are you : 65\n",
      "buddha hain tu\n"
     ]
    }
   ],
   "source": [
    "age =  int(input(\"how old are you : \"))\n",
    "if 60>age>18:\n",
    "    print(\"you are an adult\")\n",
    "elif age>60:\n",
    "    print(\"buddha hain tu\")\n",
    "else:\n",
    "    print(\"bacha hain tu\")\n",
    "    "
   ]
  },
  {
   "cell_type": "markdown",
   "id": "df54625c",
   "metadata": {},
   "source": [
    "LOGICAL OPERATORS"
   ]
  },
  {
   "cell_type": "code",
   "execution_count": 60,
   "id": "1adfbac3",
   "metadata": {},
   "outputs": [
    {
     "name": "stdout",
     "output_type": "stream",
     "text": [
      "whats is the temparature: 55\n",
      "avoid going outside\n"
     ]
    }
   ],
   "source": [
    " temp = int(input(\"whats is the temparature: \"))\n",
    "if temp>=0 and temp<=30:\n",
    "    print(\"the temperature is good!\")\n",
    "elif temp>30 or temp<0:\n",
    "    print(\"avoid going outside\")\n",
    "else:\n",
    "    print(\"the temperature is perfect!\")"
   ]
  },
  {
   "cell_type": "markdown",
   "id": "59d48a8d",
   "metadata": {},
   "source": [
    "LOOPS IN PYTHON1\n"
   ]
  },
  {
   "cell_type": "markdown",
   "id": "8887e06c",
   "metadata": {},
   "source": [
    "WHILE"
   ]
  },
  {
   "cell_type": "code",
   "execution_count": 4,
   "id": "e6800513",
   "metadata": {},
   "outputs": [
    {
     "name": "stdout",
     "output_type": "stream",
     "text": [
      "enter your name :\n",
      "enter your name :\n",
      "enter your name :\n",
      "enter your name :VIRAJ\n",
      "hello VIRAJ\n"
     ]
    }
   ],
   "source": [
    "name = \"\"\n",
    "while len(name)==0:\n",
    "    name= input(\"enter your name :\")\n",
    "print(\"hello \"+ name)\n"
   ]
  },
  {
   "cell_type": "markdown",
   "id": "a7e6a933",
   "metadata": {},
   "source": [
    "FOR "
   ]
  },
  {
   "cell_type": "code",
   "execution_count": 6,
   "id": "c5b9a1ff",
   "metadata": {},
   "outputs": [
    {
     "name": "stdout",
     "output_type": "stream",
     "text": [
      "0\n",
      "5\n",
      "10\n",
      "15\n",
      "20\n",
      "25\n",
      "30\n",
      "35\n",
      "40\n",
      "45\n"
     ]
    }
   ],
   "source": [
    "for i in range(10):\n",
    "    print(i*5)"
   ]
  },
  {
   "cell_type": "code",
   "execution_count": 7,
   "id": "364c0c49",
   "metadata": {},
   "outputs": [
    {
     "name": "stdout",
     "output_type": "stream",
     "text": [
      "50\n",
      "51\n",
      "52\n",
      "53\n",
      "54\n",
      "55\n",
      "56\n",
      "57\n",
      "58\n",
      "59\n"
     ]
    }
   ],
   "source": [
    "for i in range(50,60):\n",
    "    print (i)"
   ]
  },
  {
   "cell_type": "code",
   "execution_count": 9,
   "id": "1066aa23",
   "metadata": {},
   "outputs": [
    {
     "name": "stdout",
     "output_type": "stream",
     "text": [
      "50\n",
      "52\n",
      "54\n",
      "56\n",
      "58\n",
      "60\n"
     ]
    }
   ],
   "source": [
    "for i in range(50,60+1,2):\n",
    "    print(i)"
   ]
  },
  {
   "cell_type": "code",
   "execution_count": null,
   "id": "4b92c8a1",
   "metadata": {},
   "outputs": [],
   "source": [
    "\n",
    "\n",
    "for seconds in range(10,0,-1):\n",
    "    print(seconds)\n",
    "    time.sleep(1)\n",
    "print(\"happy new year\")\n",
    "\n"
   ]
  },
  {
   "cell_type": "code",
   "execution_count": null,
   "id": "74b6e9e1",
   "metadata": {},
   "outputs": [],
   "source": []
  }
 ],
 "metadata": {
  "kernelspec": {
   "display_name": "Python 3 (ipykernel)",
   "language": "python",
   "name": "python3"
  },
  "language_info": {
   "codemirror_mode": {
    "name": "ipython",
    "version": 3
   },
   "file_extension": ".py",
   "mimetype": "text/x-python",
   "name": "python",
   "nbconvert_exporter": "python",
   "pygments_lexer": "ipython3",
   "version": "3.11.3"
  }
 },
 "nbformat": 4,
 "nbformat_minor": 5
}

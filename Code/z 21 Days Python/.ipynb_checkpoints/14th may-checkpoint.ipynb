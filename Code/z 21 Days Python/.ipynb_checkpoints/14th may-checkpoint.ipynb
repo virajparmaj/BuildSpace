{
 "cells": [
  {
   "cell_type": "markdown",
   "id": "0854ac4b",
   "metadata": {},
   "source": [
    "NESTED LOOPS\n"
   ]
  },
  {
   "cell_type": "code",
   "execution_count": 5,
   "id": "7735fa03",
   "metadata": {},
   "outputs": [
    {
     "name": "stdout",
     "output_type": "stream",
     "text": [
      "*****\n",
      "*****\n",
      "*****\n",
      "*****\n",
      "*****\n"
     ]
    }
   ],
   "source": [
    " #RECTANGLE\n",
    "for i  in range(5):\n",
    "    for j in range(5):\n",
    "        print(\"*\", end=\"\")\n",
    "    print()\n",
    "    \n"
   ]
  },
  {
   "cell_type": "markdown",
   "id": "93c3a54f",
   "metadata": {},
   "source": [
    "LOOP CONTROL STATEMENTS\n"
   ]
  },
  {
   "cell_type": "code",
   "execution_count": 6,
   "id": "31d79ccf",
   "metadata": {},
   "outputs": [
    {
     "name": "stdout",
     "output_type": "stream",
     "text": [
      "enter your name: \n",
      "enter your name: \n",
      "enter your name: \n",
      "enter your name: \n",
      "enter your name: \n",
      "enter your name: \n",
      "enter your name: \n",
      "enter your name: \n",
      "enter your name: viraj\n"
     ]
    }
   ],
   "source": [
    "while True:\n",
    "    name = input(\"enter your name: \")\n",
    "    if name!=\"\":\n",
    "        break"
   ]
  },
  {
   "cell_type": "code",
   "execution_count": 100,
   "id": "74a2b268",
   "metadata": {},
   "outputs": [
    {
     "name": "stdout",
     "output_type": "stream",
     "text": [
      "123456789"
     ]
    }
   ],
   "source": [
    "phone = \"123-456-789\"\n",
    "for i in phone:\n",
    "    if i == \"-\":\n",
    "        continue\n",
    "    print(i, end=\"\")"
   ]
  },
  {
   "cell_type": "code",
   "execution_count": 15,
   "id": "32b7f281",
   "metadata": {},
   "outputs": [
    {
     "name": "stdout",
     "output_type": "stream",
     "text": [
      "1 2 3 4 5 6 7 8 9 10 11 12 14 15 16 17 18 19 20 "
     ]
    }
   ],
   "source": [
    "#print numbers between 1 and 20\n",
    "for i in range(1,21):\n",
    "    if i == 13:\n",
    "        pass\n",
    "    else:\n",
    "        print(str(i)+\" \", end=\"\")"
   ]
  },
  {
   "cell_type": "markdown",
   "id": "af30c6e4",
   "metadata": {},
   "source": [
    "LISTS"
   ]
  },
  {
   "cell_type": "code",
   "execution_count": 16,
   "id": "798442e2",
   "metadata": {},
   "outputs": [
    {
     "name": "stdout",
     "output_type": "stream",
     "text": [
      "['fruits', 'vegetables', 'nuts']\n"
     ]
    }
   ],
   "source": [
    "food=[\"fruits\",\"vegetables\",\"nuts\"]\n",
    "print(food)"
   ]
  },
  {
   "cell_type": "code",
   "execution_count": 17,
   "id": "b5feae61",
   "metadata": {},
   "outputs": [
    {
     "name": "stdout",
     "output_type": "stream",
     "text": [
      "fruits\n",
      "vegetables\n",
      "nuts\n"
     ]
    }
   ],
   "source": [
    "for x in food:\n",
    "    print(x)"
   ]
  },
  {
   "cell_type": "markdown",
   "id": "5bb01ac8",
   "metadata": {},
   "source": [
    "FUNCTIONS"
   ]
  },
  {
   "cell_type": "code",
   "execution_count": 19,
   "id": "a1d93a20",
   "metadata": {},
   "outputs": [],
   "source": [
    "food.append(\"juice\")"
   ]
  },
  {
   "cell_type": "code",
   "execution_count": 20,
   "id": "1f7c57a1",
   "metadata": {},
   "outputs": [
    {
     "data": {
      "text/plain": [
       "['fruits', 'vegetables', 'nuts', 'juice']"
      ]
     },
     "execution_count": 20,
     "metadata": {},
     "output_type": "execute_result"
    }
   ],
   "source": [
    "food"
   ]
  },
  {
   "cell_type": "code",
   "execution_count": 21,
   "id": "b3ea4ca7",
   "metadata": {},
   "outputs": [
    {
     "data": {
      "text/plain": [
       "['fruits', 'vegetables', 'nuts']"
      ]
     },
     "execution_count": 21,
     "metadata": {},
     "output_type": "execute_result"
    }
   ],
   "source": [
    "food.pop()\n",
    "food"
   ]
  },
  {
   "cell_type": "code",
   "execution_count": 23,
   "id": "35fe1b5f",
   "metadata": {},
   "outputs": [
    {
     "data": {
      "text/plain": [
       "['fruits', 'juice', 'juice', 'vegetables', 'nuts']"
      ]
     },
     "execution_count": 23,
     "metadata": {},
     "output_type": "execute_result"
    }
   ],
   "source": [
    "food.insert(1,\"juice\")\n",
    "food"
   ]
  },
  {
   "cell_type": "code",
   "execution_count": 28,
   "id": "9fae9cc8",
   "metadata": {},
   "outputs": [
    {
     "data": {
      "text/plain": [
       "['fruits', 'juice', 'juice', 'nuts', 'vegetables']"
      ]
     },
     "execution_count": 28,
     "metadata": {},
     "output_type": "execute_result"
    }
   ],
   "source": [
    "food.sort()\n",
    "food"
   ]
  },
  {
   "cell_type": "code",
   "execution_count": 29,
   "id": "0efe8a9f",
   "metadata": {},
   "outputs": [
    {
     "data": {
      "text/plain": [
       "[]"
      ]
     },
     "execution_count": 29,
     "metadata": {},
     "output_type": "execute_result"
    }
   ],
   "source": [
    "food.clear()\n",
    "food"
   ]
  },
  {
   "cell_type": "markdown",
   "id": "8aafb17d",
   "metadata": {},
   "source": [
    "2D LISTS"
   ]
  },
  {
   "cell_type": "code",
   "execution_count": 30,
   "id": "2f1436d1",
   "metadata": {},
   "outputs": [
    {
     "data": {
      "text/plain": [
       "[['coffee', 'tea', 'milk'],\n",
       " ['cake', 'choclate', 'tarts'],\n",
       " ['pizza', 'burger', 'paratha']]"
      ]
     },
     "execution_count": 30,
     "metadata": {},
     "output_type": "execute_result"
    }
   ],
   "source": [
    "drinks= [\"coffee\",\"tea\",\"milk\"]\n",
    "dessert=[\"cake\",\"choclate\",\"tarts\"]\n",
    "dinner = [\"pizza\",\"burger\",\"paratha\"]\n",
    "food = [drinks, dessert,dinner]\n",
    "food"
   ]
  },
  {
   "cell_type": "code",
   "execution_count": 31,
   "id": "fa852d34",
   "metadata": {},
   "outputs": [
    {
     "data": {
      "text/plain": [
       "['cake', 'choclate', 'tarts']"
      ]
     },
     "execution_count": 31,
     "metadata": {},
     "output_type": "execute_result"
    }
   ],
   "source": [
    "food[1]"
   ]
  },
  {
   "cell_type": "code",
   "execution_count": 32,
   "id": "96c5625f",
   "metadata": {},
   "outputs": [
    {
     "data": {
      "text/plain": [
       "'tea'"
      ]
     },
     "execution_count": 32,
     "metadata": {},
     "output_type": "execute_result"
    }
   ],
   "source": [
    "food[0][1]"
   ]
  },
  {
   "cell_type": "markdown",
   "id": "05192204",
   "metadata": {},
   "source": [
    "TUPLES ORDERED AND UNCHANGAEBLE\n"
   ]
  },
  {
   "cell_type": "code",
   "execution_count": 33,
   "id": "ae50622b",
   "metadata": {},
   "outputs": [
    {
     "data": {
      "text/plain": [
       "('viraj', 21, 'parmaj', 'muj', 9.22, 'male', 'viraj')"
      ]
     },
     "execution_count": 33,
     "metadata": {},
     "output_type": "execute_result"
    }
   ],
   "source": [
    "student=(\"viraj\",21,\"parmaj\",\"muj\",9.22,\"male\",\"viraj\")\n",
    "student"
   ]
  },
  {
   "cell_type": "code",
   "execution_count": 34,
   "id": "66fd9774",
   "metadata": {},
   "outputs": [
    {
     "data": {
      "text/plain": [
       "2"
      ]
     },
     "execution_count": 34,
     "metadata": {},
     "output_type": "execute_result"
    }
   ],
   "source": [
    "student.count(\"viraj\")"
   ]
  },
  {
   "cell_type": "code",
   "execution_count": 36,
   "id": "e27cb1c7",
   "metadata": {},
   "outputs": [
    {
     "data": {
      "text/plain": [
       "5"
      ]
     },
     "execution_count": 36,
     "metadata": {},
     "output_type": "execute_result"
    }
   ],
   "source": [
    "student.index(\"male\")"
   ]
  },
  {
   "cell_type": "code",
   "execution_count": 37,
   "id": "295a07a5",
   "metadata": {},
   "outputs": [
    {
     "name": "stdout",
     "output_type": "stream",
     "text": [
      "viraj\n",
      "21\n",
      "parmaj\n",
      "muj\n",
      "9.22\n",
      "male\n",
      "viraj\n"
     ]
    }
   ],
   "source": [
    "for x in student:\n",
    "    print (x)"
   ]
  },
  {
   "cell_type": "markdown",
   "id": "aa515c6a",
   "metadata": {},
   "source": [
    "SETS #UNORDERED AND UNINDEXED, faster than sets"
   ]
  },
  {
   "cell_type": "code",
   "execution_count": 2,
   "id": "ebcb6c01",
   "metadata": {},
   "outputs": [
    {
     "data": {
      "text/plain": [
       "{'fork ', 'plate', 'spoon'}"
      ]
     },
     "execution_count": 2,
     "metadata": {},
     "output_type": "execute_result"
    }
   ],
   "source": [
    "utensils = {\"fork \", \"spoon\",\"plate\"}\n",
    "utensils"
   ]
  },
  {
   "cell_type": "code",
   "execution_count": 3,
   "id": "fdbf1158",
   "metadata": {},
   "outputs": [
    {
     "data": {
      "text/plain": [
       "{'fork ', 'napkin', 'plate', 'spoon'}"
      ]
     },
     "execution_count": 3,
     "metadata": {},
     "output_type": "execute_result"
    }
   ],
   "source": [
    "utensils.add(\"napkin\")\n",
    "utensils"
   ]
  },
  {
   "cell_type": "code",
   "execution_count": 4,
   "id": "841f8a27",
   "metadata": {},
   "outputs": [],
   "source": [
    "dishes = {\"white\",\"black\",\"green\"}"
   ]
  },
  {
   "cell_type": "code",
   "execution_count": 5,
   "id": "23d682c7",
   "metadata": {},
   "outputs": [],
   "source": [
    "utensils.update(dishes)"
   ]
  },
  {
   "cell_type": "code",
   "execution_count": 6,
   "id": "b0c39280",
   "metadata": {},
   "outputs": [
    {
     "data": {
      "text/plain": [
       "{'black', 'fork ', 'green', 'napkin', 'plate', 'spoon', 'white'}"
      ]
     },
     "execution_count": 6,
     "metadata": {},
     "output_type": "execute_result"
    }
   ],
   "source": [
    "utensils"
   ]
  },
  {
   "cell_type": "code",
   "execution_count": 7,
   "id": "58dc26c3",
   "metadata": {},
   "outputs": [],
   "source": [
    "utensils.remove(\"black\")"
   ]
  },
  {
   "cell_type": "code",
   "execution_count": 8,
   "id": "0dc061f6",
   "metadata": {},
   "outputs": [
    {
     "data": {
      "text/plain": [
       "{'fork ', 'green', 'napkin', 'plate', 'spoon', 'white'}"
      ]
     },
     "execution_count": 8,
     "metadata": {},
     "output_type": "execute_result"
    }
   ],
   "source": [
    "utensils"
   ]
  },
  {
   "cell_type": "code",
   "execution_count": 9,
   "id": "3913344d",
   "metadata": {},
   "outputs": [
    {
     "data": {
      "text/plain": [
       "{'black', 'fork ', 'green', 'napkin', 'plate', 'spoon', 'white'}"
      ]
     },
     "execution_count": 9,
     "metadata": {},
     "output_type": "execute_result"
    }
   ],
   "source": [
    "dinner_table = utensils.union(dishes)\n",
    "dinner_table"
   ]
  },
  {
   "cell_type": "code",
   "execution_count": 10,
   "id": "d8872553",
   "metadata": {},
   "outputs": [
    {
     "data": {
      "text/plain": [
       "{'fork ', 'napkin', 'plate', 'spoon'}"
      ]
     },
     "execution_count": 10,
     "metadata": {},
     "output_type": "execute_result"
    }
   ],
   "source": [
    "utensils.difference(dishes)"
   ]
  },
  {
   "cell_type": "code",
   "execution_count": 11,
   "id": "1d1a1bbd",
   "metadata": {},
   "outputs": [
    {
     "data": {
      "text/plain": [
       "{'green', 'white'}"
      ]
     },
     "execution_count": 11,
     "metadata": {},
     "output_type": "execute_result"
    }
   ],
   "source": [
    "utensils.intersection(dishes)"
   ]
  },
  {
   "cell_type": "markdown",
   "id": "9ae997a9",
   "metadata": {},
   "source": [
    "DICTIONARIES UNORDRED MUTABLE"
   ]
  },
  {
   "cell_type": "code",
   "execution_count": 12,
   "id": "506251e5",
   "metadata": {},
   "outputs": [],
   "source": [
    "capitals = {'USA':'WASHINGTON','INDIA':'NEW DELHI', 'CHINA':'BEIJING','RUSSIA':'MOSCOW'}"
   ]
  },
  {
   "cell_type": "code",
   "execution_count": 14,
   "id": "d8a0ac48",
   "metadata": {},
   "outputs": [
    {
     "data": {
      "text/plain": [
       "'WASHINGTON'"
      ]
     },
     "execution_count": 14,
     "metadata": {},
     "output_type": "execute_result"
    }
   ],
   "source": [
    "capitals.get('USA')"
   ]
  },
  {
   "cell_type": "code",
   "execution_count": 15,
   "id": "0ab0462b",
   "metadata": {},
   "outputs": [
    {
     "data": {
      "text/plain": [
       "dict_keys(['USA', 'INDIA', 'CHINA', 'RUSSIA'])"
      ]
     },
     "execution_count": 15,
     "metadata": {},
     "output_type": "execute_result"
    }
   ],
   "source": [
    "capitals.keys()"
   ]
  },
  {
   "cell_type": "code",
   "execution_count": 16,
   "id": "cabf3a25",
   "metadata": {},
   "outputs": [
    {
     "data": {
      "text/plain": [
       "dict_values(['WASHINGTON', 'NEW DELHI', 'BEIJING', 'MOSCOW'])"
      ]
     },
     "execution_count": 16,
     "metadata": {},
     "output_type": "execute_result"
    }
   ],
   "source": [
    "capitals.values()"
   ]
  },
  {
   "cell_type": "code",
   "execution_count": 17,
   "id": "c36667d4",
   "metadata": {},
   "outputs": [
    {
     "name": "stdout",
     "output_type": "stream",
     "text": [
      "WASHINGTON\n",
      "NEW DELHI\n",
      "BEIJING\n",
      "MOSCOW\n"
     ]
    }
   ],
   "source": [
    "for i in capitals.values():\n",
    "    print(i)"
   ]
  },
  {
   "cell_type": "code",
   "execution_count": 27,
   "id": "7f0de89f",
   "metadata": {},
   "outputs": [
    {
     "name": "stdout",
     "output_type": "stream",
     "text": [
      "USA WASHINGTON\n",
      "INDIA NEW DELHI\n",
      "CHINA CHING CHO\n",
      "RUSSIA MOSCOW\n"
     ]
    }
   ],
   "source": [
    "for key,value in capitals.items():\n",
    "    print(key,value)"
   ]
  },
  {
   "cell_type": "code",
   "execution_count": 21,
   "id": "01d79be6",
   "metadata": {},
   "outputs": [],
   "source": [
    "capitals.update({'CHINA':'CHING CHO'})"
   ]
  },
  {
   "cell_type": "code",
   "execution_count": 23,
   "id": "8c01555a",
   "metadata": {},
   "outputs": [
    {
     "data": {
      "text/plain": [
       "{'USA': 'WASHINGTON',\n",
       " 'INDIA': 'NEW DELHI',\n",
       " 'CHINA': 'CHING CHO',\n",
       " 'RUSSIA': 'MOSCOW'}"
      ]
     },
     "execution_count": 23,
     "metadata": {},
     "output_type": "execute_result"
    }
   ],
   "source": [
    "capitals"
   ]
  },
  {
   "cell_type": "markdown",
   "id": "3b8e6736",
   "metadata": {},
   "source": [
    "FUNCTION"
   ]
  },
  {
   "cell_type": "code",
   "execution_count": 32,
   "id": "f60fa157",
   "metadata": {},
   "outputs": [],
   "source": [
    "def hello():\n",
    "    print(\"have a nice day!\")"
   ]
  },
  {
   "cell_type": "code",
   "execution_count": 33,
   "id": "4e166db4",
   "metadata": {},
   "outputs": [
    {
     "name": "stdout",
     "output_type": "stream",
     "text": [
      "have a nice day!\n"
     ]
    }
   ],
   "source": [
    "hello()"
   ]
  },
  {
   "cell_type": "code",
   "execution_count": 36,
   "id": "0f40ba1b",
   "metadata": {
    "scrolled": true
   },
   "outputs": [
    {
     "name": "stdout",
     "output_type": "stream",
     "text": [
      "enter your name :viraj\n",
      "the length of your name is 5\n"
     ]
    }
   ],
   "source": [
    "name = input(\"enter your name :\")\n",
    "def givelength():\n",
    "    print(\"the length of your name is \"+str(len(name)))\n",
    "givelength()"
   ]
  },
  {
   "cell_type": "markdown",
   "id": "8978e383",
   "metadata": {},
   "source": [
    "RETURN STATEMENT"
   ]
  },
  {
   "cell_type": "code",
   "execution_count": 38,
   "id": "4d0ce737",
   "metadata": {},
   "outputs": [],
   "source": [
    "def multiply(n1,n2):\n",
    "    result = n1*n2\n",
    "    return result"
   ]
  },
  {
   "cell_type": "code",
   "execution_count": 39,
   "id": "82c37f25",
   "metadata": {},
   "outputs": [
    {
     "data": {
      "text/plain": [
       "42"
      ]
     },
     "execution_count": 39,
     "metadata": {},
     "output_type": "execute_result"
    }
   ],
   "source": [
    "multiply(6,7)"
   ]
  },
  {
   "cell_type": "code",
   "execution_count": 40,
   "id": "6b18509c",
   "metadata": {},
   "outputs": [
    {
     "data": {
      "text/plain": [
       "42"
      ]
     },
     "execution_count": 40,
     "metadata": {},
     "output_type": "execute_result"
    }
   ],
   "source": [
    "def multiply(n1,n2):\n",
    "    return n1*n2\n",
    "multiply(6,7)"
   ]
  },
  {
   "cell_type": "markdown",
   "id": "be040d46",
   "metadata": {},
   "source": [
    "ARGUEMENTS\n",
    "\n",
    "HAVING MULTIPLE VSLSUES INTO FUNCTIONS, PACK ALL ARGUEMENTS INTO A TUPLE"
   ]
  },
  {
   "cell_type": "code",
   "execution_count": 42,
   "id": "5bd4421a",
   "metadata": {},
   "outputs": [
    {
     "data": {
      "text/plain": [
       "10"
      ]
     },
     "execution_count": 42,
     "metadata": {},
     "output_type": "execute_result"
    }
   ],
   "source": [
    "def add(*args):\n",
    "    sum=0\n",
    "    for i in args:\n",
    "        sum+=i\n",
    "    return sum\n",
    "add(1,2,3,4)"
   ]
  },
  {
   "cell_type": "code",
   "execution_count": 43,
   "id": "63f5f11c",
   "metadata": {},
   "outputs": [
    {
     "data": {
      "text/plain": [
       "10"
      ]
     },
     "execution_count": 43,
     "metadata": {},
     "output_type": "execute_result"
    }
   ],
   "source": [
    "def add(*KUCHBHI):\n",
    "    sum=0\n",
    "    for i in KUCHBHI:\n",
    "        sum+=i\n",
    "    return sum\n",
    "add(1,2,3,4)"
   ]
  },
  {
   "cell_type": "markdown",
   "id": "7a2908ca",
   "metadata": {},
   "source": [
    "KWARGS\n",
    "\n",
    "PACK ALL ARGS INTO A DICTIONARY, CAN ACCEPT VARYING AMOUNT OF KEYWROD ARGS"
   ]
  },
  {
   "cell_type": "code",
   "execution_count": 46,
   "id": "8cebb6b0",
   "metadata": {},
   "outputs": [
    {
     "name": "stdout",
     "output_type": "stream",
     "text": [
      "helloviraj udayraj parmaj\n"
     ]
    }
   ],
   "source": [
    "def hello(**kwargs):\n",
    "    print(\"hello\"+ kwargs['first']+ \" \"+ kwargs['middle'] +\" \"+kwargs['last'])\n",
    "hello(first=\"viraj\",middle=\"udayraj\",last=\"parmaj\")"
   ]
  },
  {
   "cell_type": "markdown",
   "id": "c47b4cf2",
   "metadata": {},
   "source": [
    "FORMAT\n",
    "\n",
    "to format the output"
   ]
  },
  {
   "cell_type": "code",
   "execution_count": 48,
   "id": "c3b66db5",
   "metadata": {},
   "outputs": [
    {
     "name": "stdout",
     "output_type": "stream",
     "text": [
      "your name is viraj parmaj\n"
     ]
    }
   ],
   "source": [
    "fname=\"viraj\"\n",
    "lname=\"parmaj\"\n",
    "print(\"your name is {} {}\".format(fname,lname))"
   ]
  },
  {
   "cell_type": "code",
   "execution_count": 49,
   "id": "e05208f3",
   "metadata": {},
   "outputs": [
    {
     "name": "stdout",
     "output_type": "stream",
     "text": [
      "your name is viraj parmaj\n",
      "your name is viraj parmaj\n"
     ]
    }
   ],
   "source": [
    "print(\"your name is {1} {0}\".format(lname,fname))\n",
    "print(\"your name is {0} {1}\".format(fname,lname))\n"
   ]
  },
  {
   "cell_type": "code",
   "execution_count": 52,
   "id": "618f6566",
   "metadata": {},
   "outputs": [
    {
     "data": {
      "text/plain": [
       "'viraj texts ishita'"
      ]
     },
     "execution_count": 52,
     "metadata": {},
     "output_type": "execute_result"
    }
   ],
   "source": [
    "text= \"viraj texts {}\"\n",
    "text.format(\"ishita\")"
   ]
  },
  {
   "cell_type": "code",
   "execution_count": 54,
   "id": "31ed4b3b",
   "metadata": {},
   "outputs": [
    {
     "data": {
      "text/plain": [
       "'viraj texts ishita     padding'"
      ]
     },
     "execution_count": 54,
     "metadata": {},
     "output_type": "execute_result"
    }
   ],
   "source": [
    "#to give some padding\n",
    "text= \"viraj texts {:10} padding\"\n",
    "text.format(\"ishita\")"
   ]
  },
  {
   "cell_type": "code",
   "execution_count": 60,
   "id": "7239b279",
   "metadata": {},
   "outputs": [
    {
     "data": {
      "text/plain": [
       "'viraj texts ishita     left align'"
      ]
     },
     "execution_count": 60,
     "metadata": {},
     "output_type": "execute_result"
    }
   ],
   "source": [
    "#to give some padding\n",
    "text= \"viraj texts {:<10} left align\"\n",
    "text.format(\"ishita\")\n"
   ]
  },
  {
   "cell_type": "code",
   "execution_count": 59,
   "id": "392f3d5c",
   "metadata": {},
   "outputs": [
    {
     "data": {
      "text/plain": [
       "'viraj texts   ishita   cenntre align'"
      ]
     },
     "execution_count": 59,
     "metadata": {},
     "output_type": "execute_result"
    }
   ],
   "source": [
    "#to give some padding\n",
    "text= \"viraj texts {:^10} cenntre align\"\n",
    "text.format(\"ishita\")"
   ]
  },
  {
   "cell_type": "code",
   "execution_count": 58,
   "id": "01a52c53",
   "metadata": {},
   "outputs": [
    {
     "data": {
      "text/plain": [
       "'viraj texts     ishita rightalign'"
      ]
     },
     "execution_count": 58,
     "metadata": {},
     "output_type": "execute_result"
    }
   ],
   "source": [
    "#to give some padding\n",
    "text= \"viraj texts {:>10} rightalign\"\n",
    "text.format(\"ishita\")"
   ]
  },
  {
   "cell_type": "markdown",
   "id": "af34880d",
   "metadata": {},
   "source": [
    "for numbers\n"
   ]
  },
  {
   "cell_type": "code",
   "execution_count": 64,
   "id": "4304627e",
   "metadata": {},
   "outputs": [
    {
     "name": "stdout",
     "output_type": "stream",
     "text": [
      "the most used vlue of pi is 3.145\n"
     ]
    }
   ],
   "source": [
    "pi=3.14539\n",
    "print(\"the most used vlue of pi is {:.3f}\".format(pi))\n"
   ]
  },
  {
   "cell_type": "code",
   "execution_count": 65,
   "id": "ecd2add0",
   "metadata": {},
   "outputs": [],
   "source": [
    "number=1000"
   ]
  },
  {
   "cell_type": "code",
   "execution_count": 66,
   "id": "406b391c",
   "metadata": {},
   "outputs": [
    {
     "name": "stdout",
     "output_type": "stream",
     "text": [
      "the given number is 1000.000\n"
     ]
    }
   ],
   "source": [
    "print(\"the given number is {:.3f}\".format(number))"
   ]
  },
  {
   "cell_type": "code",
   "execution_count": 67,
   "id": "b5fec3d4",
   "metadata": {},
   "outputs": [
    {
     "name": "stdout",
     "output_type": "stream",
     "text": [
      "the given number is 1,000\n"
     ]
    }
   ],
   "source": [
    "print(\"the given number is {:,}\".format(number))"
   ]
  },
  {
   "cell_type": "code",
   "execution_count": 68,
   "id": "8216e415",
   "metadata": {},
   "outputs": [
    {
     "name": "stdout",
     "output_type": "stream",
     "text": [
      "the given number is 1111101000\n"
     ]
    }
   ],
   "source": [
    "print(\"the given number is {:b}\".format(number))"
   ]
  },
  {
   "cell_type": "code",
   "execution_count": 69,
   "id": "c2f4a4e6",
   "metadata": {},
   "outputs": [
    {
     "name": "stdout",
     "output_type": "stream",
     "text": [
      "the given number is 1750\n"
     ]
    }
   ],
   "source": [
    "print(\"the given number is {:o}\".format(number))"
   ]
  },
  {
   "cell_type": "code",
   "execution_count": 70,
   "id": "3db6fb65",
   "metadata": {},
   "outputs": [
    {
     "name": "stdout",
     "output_type": "stream",
     "text": [
      "the given number is 1.000000e+03\n"
     ]
    }
   ],
   "source": [
    "print(\"the given number is {:e}\".format(number))"
   ]
  },
  {
   "cell_type": "markdown",
   "id": "cca424e0",
   "metadata": {},
   "source": [
    "IMPORT RANDOM"
   ]
  },
  {
   "cell_type": "code",
   "execution_count": 73,
   "id": "594ecc9b",
   "metadata": {},
   "outputs": [
    {
     "name": "stdout",
     "output_type": "stream",
     "text": [
      "3\n",
      "0.43550005235508027\n"
     ]
    }
   ],
   "source": [
    "import random\n",
    "x = random.randint(1,7) #between 1 and 7 \n",
    "y = random.random() #between 0 and 1\n",
    "print(x)\n",
    "print(y)\n",
    "\n"
   ]
  },
  {
   "cell_type": "code",
   "execution_count": 75,
   "id": "89703cb2",
   "metadata": {},
   "outputs": [
    {
     "name": "stdout",
     "output_type": "stream",
     "text": [
      "hin\n"
     ]
    }
   ],
   "source": [
    "my_list=[\"history\",\"geo\",\"eng\",\"hin\",\"mar\"]\n",
    "z=  random.choice(my_list)\n",
    "print(z)"
   ]
  },
  {
   "cell_type": "code",
   "execution_count": 77,
   "id": "9e5cb727",
   "metadata": {},
   "outputs": [
    {
     "data": {
      "text/plain": [
       "[5, 2, 9, 8, 1, 'Q', 'J', 7, 6, 3, 4, 'K']"
      ]
     },
     "execution_count": 77,
     "metadata": {},
     "output_type": "execute_result"
    }
   ],
   "source": [
    "cards= [1,2,3,4,5,6,7,8,9,\"J\",\"Q\",\"K\"]\n",
    "random.shuffle(cards)\n",
    "cards"
   ]
  },
  {
   "cell_type": "markdown",
   "id": "402de70e",
   "metadata": {},
   "source": [
    "EXCEPTION HANDLING "
   ]
  },
  {
   "cell_type": "code",
   "execution_count": 80,
   "id": "e4928ea7",
   "metadata": {},
   "outputs": [
    {
     "name": "stdout",
     "output_type": "stream",
     "text": [
      "enter a number: 5\n",
      "enter a number: 2\n",
      "2.5\n"
     ]
    }
   ],
   "source": [
    "numerator= int(input(\"enter a number: \"))\n",
    "denominator= int(input(\"enter a number: \"))\n",
    "result= numerator/denominator\n",
    "print(result)"
   ]
  },
  {
   "cell_type": "code",
   "execution_count": 81,
   "id": "b59786a4",
   "metadata": {},
   "outputs": [
    {
     "name": "stdout",
     "output_type": "stream",
     "text": [
      "enter a number: 5\n",
      "enter a number: 0\n"
     ]
    },
    {
     "ename": "ZeroDivisionError",
     "evalue": "division by zero",
     "output_type": "error",
     "traceback": [
      "\u001b[1;31m---------------------------------------------------------------------------\u001b[0m",
      "\u001b[1;31mZeroDivisionError\u001b[0m                         Traceback (most recent call last)",
      "Cell \u001b[1;32mIn[81], line 3\u001b[0m\n\u001b[0;32m      1\u001b[0m numerator\u001b[38;5;241m=\u001b[39m \u001b[38;5;28mint\u001b[39m(\u001b[38;5;28minput\u001b[39m(\u001b[38;5;124m\"\u001b[39m\u001b[38;5;124menter a number: \u001b[39m\u001b[38;5;124m\"\u001b[39m))\n\u001b[0;32m      2\u001b[0m denominator\u001b[38;5;241m=\u001b[39m \u001b[38;5;28mint\u001b[39m(\u001b[38;5;28minput\u001b[39m(\u001b[38;5;124m\"\u001b[39m\u001b[38;5;124menter a number: \u001b[39m\u001b[38;5;124m\"\u001b[39m))\n\u001b[1;32m----> 3\u001b[0m result\u001b[38;5;241m=\u001b[39m \u001b[43mnumerator\u001b[49m\u001b[38;5;241;43m/\u001b[39;49m\u001b[43mdenominator\u001b[49m\n\u001b[0;32m      4\u001b[0m \u001b[38;5;28mprint\u001b[39m(result)\n",
      "\u001b[1;31mZeroDivisionError\u001b[0m: division by zero"
     ]
    }
   ],
   "source": [
    "numerator= int(input(\"enter a number: \"))\n",
    "denominator= int(input(\"enter a number: \"))\n",
    "result= numerator/denominator\n",
    "print(result)"
   ]
  },
  {
   "cell_type": "code",
   "execution_count": 84,
   "id": "8e749140",
   "metadata": {},
   "outputs": [
    {
     "name": "stdout",
     "output_type": "stream",
     "text": [
      "enter a number: 5\n",
      "enter a number: 0\n",
      "something went wrong :( Check your number!\n"
     ]
    }
   ],
   "source": [
    "try:\n",
    "    numerator= int(input(\"enter a number: \"))\n",
    "    denominator= int(input(\"enter a number: \"))\n",
    "    result= numerator/denominator\n",
    "    print(result)\n",
    "except Exception:\n",
    "    print(\"something went wrong :( Check your number!\")"
   ]
  },
  {
   "cell_type": "code",
   "execution_count": 88,
   "id": "9c6462cb",
   "metadata": {},
   "outputs": [
    {
     "name": "stdout",
     "output_type": "stream",
     "text": [
      "enter a number: 5\n",
      "enter a number: 0\n",
      "something went wrong :( Check your number!\n"
     ]
    }
   ],
   "source": [
    "try:\n",
    "    numerator= int(input(\"enter a number: \"))\n",
    "    denominator= int(input(\"enter a number: \"))\n",
    "    result= numerator/denominator\n",
    "    print(result)\n",
    "except ZeroDivisionError:\n",
    "    print(\"something went wrong :( Check your number!\")"
   ]
  },
  {
   "cell_type": "code",
   "execution_count": 90,
   "id": "b31a6ba6",
   "metadata": {},
   "outputs": [
    {
     "name": "stdout",
     "output_type": "stream",
     "text": [
      "enter a number: 5\n",
      "enter a number: pi\n",
      "enter a number please!\n"
     ]
    }
   ],
   "source": [
    "try:\n",
    "    numerator= int(input(\"enter a number: \"))\n",
    "    denominator= int(input(\"enter a number: \"))\n",
    "    result= numerator/denominator\n",
    "    print(result)\n",
    "except ValueError:\n",
    "    print(\"enter a number please!\")"
   ]
  },
  {
   "cell_type": "code",
   "execution_count": 92,
   "id": "2d6cd5b3",
   "metadata": {},
   "outputs": [
    {
     "name": "stdout",
     "output_type": "stream",
     "text": [
      "enter a number: 5\n",
      "enter a number: p\n",
      "invalid literal for int() with base 10: 'p'\n",
      "something went wrong!\n"
     ]
    }
   ],
   "source": [
    "try:\n",
    "    numerator= int(input(\"enter a number: \"))\n",
    "    denominator= int(input(\"enter a number: \"))\n",
    "    result= numerator/denominator\n",
    "except Exception as e:\n",
    "    print(e)\n",
    "    print(\"something went wrong!\")\n",
    "except ZeroDivisionError as e:\n",
    "    print(e)\n",
    "    print(\"denominator cannot be zero\")\n",
    "except ValueError as e:\n",
    "    print(e)\n",
    "    print(\"enter a number please!\")\n",
    "else:\n",
    "    print (result)"
   ]
  },
  {
   "cell_type": "code",
   "execution_count": 93,
   "id": "cfbc2438",
   "metadata": {},
   "outputs": [
    {
     "name": "stdout",
     "output_type": "stream",
     "text": [
      "enter a number: 5\n",
      "enter a number: pi\n",
      "invalid literal for int() with base 10: 'pi'\n",
      "something went wrong!\n",
      "this line will always execute\n"
     ]
    }
   ],
   "source": [
    "try:\n",
    "    numerator= int(input(\"enter a number: \"))\n",
    "    denominator= int(input(\"enter a number: \"))\n",
    "    result= numerator/denominator\n",
    "except Exception as e:\n",
    "    print(e)\n",
    "    print(\"something went wrong!\")\n",
    "except ZeroDivisionError as e:\n",
    "    print(e)\n",
    "    print(\"denominator cannot be zero\")\n",
    "except ValueError as e:\n",
    "    print(e)\n",
    "    print(\"enter a number please!\")\n",
    "else:\n",
    "    print (result)\n",
    "finally:\n",
    "    print(\"this line will always execute\")"
   ]
  },
  {
   "cell_type": "markdown",
   "id": "91ee30e6",
   "metadata": {},
   "source": [
    "FILE DETECTION"
   ]
  },
  {
   "cell_type": "code",
   "execution_count": 101,
   "id": "ce412c34",
   "metadata": {},
   "outputs": [],
   "source": [
    "import os"
   ]
  },
  {
   "cell_type": "code",
   "execution_count": 105,
   "id": "d6f3aec7",
   "metadata": {},
   "outputs": [
    {
     "name": "stdout",
     "output_type": "stream",
     "text": [
      "Location exists\n",
      "it is a file\n"
     ]
    }
   ],
   "source": [
    "import os\n",
    "\n",
    "path = r\"C:\\Users\\viraj\\OneDrive\\Desktop\\jai-bom.pdf\"\n",
    "\n",
    "if os.path.exists(path):\n",
    "    print(\"Location exists\")\n",
    "    if os.path.isfile(path): #os.path.isdir() to check if it is a directory \n",
    "        print(\"it is a file\")\n",
    "else:\n",
    "    print(\"Location doesn't exist\")\n"
   ]
  },
  {
   "cell_type": "markdown",
   "id": "77edf2ac",
   "metadata": {},
   "source": [
    "READ A FILE"
   ]
  },
  {
   "cell_type": "code",
   "execution_count": 108,
   "id": "051efaef",
   "metadata": {},
   "outputs": [
    {
     "name": "stdout",
     "output_type": "stream",
     "text": [
      "Hi this is viraj\n",
      "Trying to open a text file using python\n",
      "Do this for the entire summer \n"
     ]
    }
   ],
   "source": [
    "\n",
    "file_path = r\"C:\\Users\\viraj\\OneDrive\\Desktop\\Hi this is viraj.txt\"  # Replace with the actual file path\n",
    "\n",
    "# Open the file in read mode\n",
    "with open(file_path, 'r') as file:\n",
    "    # Read the contents of the file\n",
    "    file_contents = file.read()\n",
    "    \n",
    "# Print the file contents\n",
    "print(file_contents)\n",
    "\n"
   ]
  },
  {
   "cell_type": "code",
   "execution_count": 111,
   "id": "27d8b38f",
   "metadata": {},
   "outputs": [
    {
     "name": "stdout",
     "output_type": "stream",
     "text": [
      "Hi this is viraj\n",
      "Trying to open a text file using python\n",
      "Do this for the entire summer \n"
     ]
    }
   ],
   "source": [
    "\n",
    "try:\n",
    "    with open(file_path, 'r') as file:\n",
    "        # Read the contents of the file\n",
    "        file_contents = file.read()\n",
    "        print(file_contents)\n",
    "except FileNotFoundError:\n",
    "    print(\"That file was not found\")\n"
   ]
  },
  {
   "cell_type": "markdown",
   "id": "a291dd9a",
   "metadata": {},
   "source": [
    "WRITE A FILE"
   ]
  },
  {
   "cell_type": "code",
   "execution_count": 119,
   "id": "2852d8a9",
   "metadata": {},
   "outputs": [
    {
     "name": "stdout",
     "output_type": "stream",
     "text": [
      "13\n"
     ]
    }
   ],
   "source": [
    "text= \"added a text\\n\"\n",
    "\n",
    "with open(file_path, 'a') as file:\n",
    "        # Read the contents of the file\n",
    "        new1 = file.write(text)\n",
    "        print(new1)"
   ]
  },
  {
   "cell_type": "markdown",
   "id": "bc417cad",
   "metadata": {},
   "source": [
    "COPY FILE"
   ]
  },
  {
   "cell_type": "code",
   "execution_count": 124,
   "id": "ce36233a",
   "metadata": {},
   "outputs": [],
   "source": [
    "import shutil\n",
    "#copyfile() copies contents of the file\n",
    "#copy() permission mode + destiantion can be directory + copyfile()\n",
    "#copy2() copy()+ copies metadata"
   ]
  },
  {
   "cell_type": "code",
   "execution_count": 125,
   "id": "4e463306",
   "metadata": {},
   "outputs": [
    {
     "ename": "FileNotFoundError",
     "evalue": "[Errno 2] No such file or directory: 'Hi this is viraj.txt'",
     "output_type": "error",
     "traceback": [
      "\u001b[1;31m---------------------------------------------------------------------------\u001b[0m",
      "\u001b[1;31mFileNotFoundError\u001b[0m                         Traceback (most recent call last)",
      "Cell \u001b[1;32mIn[125], line 1\u001b[0m\n\u001b[1;32m----> 1\u001b[0m \u001b[43mshutil\u001b[49m\u001b[38;5;241;43m.\u001b[39;49m\u001b[43mcopyfile\u001b[49m\u001b[43m(\u001b[49m\u001b[38;5;124;43m'\u001b[39;49m\u001b[38;5;124;43mHi this is viraj.txt\u001b[39;49m\u001b[38;5;124;43m'\u001b[39;49m\u001b[43m,\u001b[49m\u001b[38;5;124;43m'\u001b[39;49m\u001b[38;5;124;43m1.txt\u001b[39;49m\u001b[38;5;124;43m'\u001b[39;49m\u001b[43m)\u001b[49m\n",
      "File \u001b[1;32m~\\AppData\\Local\\Programs\\Python\\Python311\\Lib\\shutil.py:256\u001b[0m, in \u001b[0;36mcopyfile\u001b[1;34m(src, dst, follow_symlinks)\u001b[0m\n\u001b[0;32m    254\u001b[0m     os\u001b[38;5;241m.\u001b[39msymlink(os\u001b[38;5;241m.\u001b[39mreadlink(src), dst)\n\u001b[0;32m    255\u001b[0m \u001b[38;5;28;01melse\u001b[39;00m:\n\u001b[1;32m--> 256\u001b[0m     \u001b[38;5;28;01mwith\u001b[39;00m \u001b[38;5;28mopen\u001b[39m(src, \u001b[38;5;124m'\u001b[39m\u001b[38;5;124mrb\u001b[39m\u001b[38;5;124m'\u001b[39m) \u001b[38;5;28;01mas\u001b[39;00m fsrc:\n\u001b[0;32m    257\u001b[0m         \u001b[38;5;28;01mtry\u001b[39;00m:\n\u001b[0;32m    258\u001b[0m             \u001b[38;5;28;01mwith\u001b[39;00m \u001b[38;5;28mopen\u001b[39m(dst, \u001b[38;5;124m'\u001b[39m\u001b[38;5;124mwb\u001b[39m\u001b[38;5;124m'\u001b[39m) \u001b[38;5;28;01mas\u001b[39;00m fdst:\n\u001b[0;32m    259\u001b[0m                 \u001b[38;5;66;03m# macOS\u001b[39;00m\n",
      "\u001b[1;31mFileNotFoundError\u001b[0m: [Errno 2] No such file or directory: 'Hi this is viraj.txt'"
     ]
    }
   ],
   "source": [
    "shutil.copyfile('Hi this is viraj.txt','1.txt')"
   ]
  },
  {
   "cell_type": "code",
   "execution_count": null,
   "id": "bf07cd22",
   "metadata": {},
   "outputs": [],
   "source": []
  }
 ],
 "metadata": {
  "kernelspec": {
   "display_name": "Python 3 (ipykernel)",
   "language": "python",
   "name": "python3"
  },
  "language_info": {
   "codemirror_mode": {
    "name": "ipython",
    "version": 3
   },
   "file_extension": ".py",
   "mimetype": "text/x-python",
   "name": "python",
   "nbconvert_exporter": "python",
   "pygments_lexer": "ipython3",
   "version": "3.11.3"
  }
 },
 "nbformat": 4,
 "nbformat_minor": 5
}

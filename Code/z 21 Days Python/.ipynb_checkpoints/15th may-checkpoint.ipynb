{
 "cells": [
  {
   "cell_type": "markdown",
   "id": "970e9989",
   "metadata": {},
   "source": [
    "MODULES\n",
    "\n",
    "a file containing python code might containn functions classes "
   ]
  },
  {
   "cell_type": "code",
   "execution_count": 7,
   "id": "775234e6",
   "metadata": {},
   "outputs": [
    {
     "ename": "ModuleNotFoundError",
     "evalue": "No module named 'module1'",
     "output_type": "error",
     "traceback": [
      "\u001b[1;31m---------------------------------------------------------------------------\u001b[0m",
      "\u001b[1;31mModuleNotFoundError\u001b[0m                       Traceback (most recent call last)",
      "Cell \u001b[1;32mIn[7], line 1\u001b[0m\n\u001b[1;32m----> 1\u001b[0m \u001b[38;5;28;01mfrom\u001b[39;00m \u001b[38;5;21;01mmodule1\u001b[39;00m \u001b[38;5;28;01mimport\u001b[39;00m hello,bye\n",
      "\u001b[1;31mModuleNotFoundError\u001b[0m: No module named 'module1'"
     ]
    }
   ],
   "source": [
    "from module1 import hello,bye\n"
   ]
  },
  {
   "cell_type": "code",
   "execution_count": 8,
   "id": "cba77e0b",
   "metadata": {},
   "outputs": [
    {
     "name": "stdout",
     "output_type": "stream",
     "text": [
      "Module module1 not found.\n",
      "Please make sure the file 'module1.py' is located in the path './module1.py'.\n"
     ]
    }
   ],
   "source": [
    "import sys\n",
    "import importlib\n",
    "\n",
    "# Verify the module's file name\n",
    "module_name = 'module1'\n",
    "module_file = module_name + '.py'\n",
    "\n",
    "# Check the file's location\n",
    "module_path = './' + module_file  # Adjust the path if necessary\n",
    "\n",
    "try:\n",
    "    # Try to import the module\n",
    "    module = importlib.import_module(module_name)\n",
    "    print(\"Module imported successfully!\")\n",
    "    \n",
    "    # Use the module's functions\n",
    "    module.hello()\n",
    "    module.bye()\n",
    "    \n",
    "except ModuleNotFoundError:\n",
    "    print(f\"Module {module_name} not found.\")\n",
    "    print(f\"Please make sure the file '{module_file}' is located in the path '{module_path}'.\")\n",
    "    \n",
    "except Exception as e:\n",
    "    print(f\"An error occurred while importing or using the module: {e}\")\n"
   ]
  },
  {
   "cell_type": "code",
   "execution_count": null,
   "id": "018f26c7",
   "metadata": {},
   "outputs": [],
   "source": [
    "def new_game():\n",
    "    pass\n",
    "def "
   ]
  }
 ],
 "metadata": {
  "kernelspec": {
   "display_name": "Python 3 (ipykernel)",
   "language": "python",
   "name": "python3"
  },
  "language_info": {
   "codemirror_mode": {
    "name": "ipython",
    "version": 3
   },
   "file_extension": ".py",
   "mimetype": "text/x-python",
   "name": "python",
   "nbconvert_exporter": "python",
   "pygments_lexer": "ipython3",
   "version": "3.11.3"
  }
 },
 "nbformat": 4,
 "nbformat_minor": 5
}
